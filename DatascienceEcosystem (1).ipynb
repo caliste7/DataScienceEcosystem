{
 "cells": [
  {
   "cell_type": "markdown",
   "id": "b10dcba5-dae3-4d16-8a99-de2f4fbaaddf",
   "metadata": {},
   "source": [
    "\n",
    "# H1:Data Science Tools And Ecosystem "
   ]
  },
  {
   "cell_type": "markdown",
   "id": "9d1f84e8-7a21-4fbe-a3df-1b41c2f4f76a",
   "metadata": {},
   "source": [
    "# In this notebook, Data Science Tools and Ecosystem are summarized."
   ]
  },
  {
   "cell_type": "markdown",
   "id": "969f9677-1136-4c1e-92b7-475b7d998a81",
   "metadata": {},
   "source": [
    "# Some of the popular languages that Data Scientists use are:\n",
    "1. Pyton\n",
    "2. Sql\n",
    "3. R"
   ]
  },
  {
   "cell_type": "markdown",
   "id": "633aa502-75e5-4f68-8833-3f2ec87c8f96",
   "metadata": {},
   "source": [
    "# Some of the commonly used libraries used by Data Scientists include:\n",
    "1. Panda\n",
    "2. NumPy\n",
    "3. TensorFlow \n",
    "4. Keras   \n",
    "5. Seaborn"
   ]
  },
  {
   "cell_type": "markdown",
   "id": "7e7ff161-2913-46a3-8193-51b10747d5ba",
   "metadata": {},
   "source": [
    "\n",
    " |Data Science Tools|  \n",
    " |------------------|\n",
    " |Jupter Notebooks|\n",
    " |IDE   |\n",
    " |R Studio|"
   ]
  },
  {
   "cell_type": "markdown",
   "id": "7d2b18ba-5427-4d12-aa64-b6a708f5e1c9",
   "metadata": {},
   "source": [
    "### H3:Below are a few examples of evaluating arithmetic expressions in Python\n",
    "\n"
   ]
  },
  {
   "cell_type": "code",
   "execution_count": 1,
   "id": "40357a5b-0b6d-4547-b28c-32b4566fad39",
   "metadata": {
    "tags": []
   },
   "outputs": [
    {
     "data": {
      "text/plain": [
       "17"
      ]
     },
     "execution_count": 1,
     "metadata": {},
     "output_type": "execute_result"
    }
   ],
   "source": [
    "#This a simple arithmetic expression to mutiply then add integers\n",
    "(3*4)+5"
   ]
  },
  {
   "cell_type": "code",
   "execution_count": 9,
   "id": "64781feb-2298-46dd-afe5-437a2a176ff1",
   "metadata": {
    "tags": []
   },
   "outputs": [
    {
     "data": {
      "text/plain": [
       "3.3333333333333335"
      ]
     },
     "execution_count": 9,
     "metadata": {},
     "output_type": "execute_result"
    }
   ],
   "source": [
    "# This will convert 200 minutes to hours by diving by 60\n",
    "200/60"
   ]
  },
  {
   "cell_type": "markdown",
   "id": "08e58393-3466-42ac-97da-701f44c506e9",
   "metadata": {},
   "source": [
    "# Objectives:\n",
    "## List popular languages for Data Science\n",
    "- Pyton\n",
    "- Sql\n",
    "- R "
   ]
  },
  {
   "cell_type": "markdown",
   "id": "c96f2ee4-11c2-4a0e-a583-b1b2d6e29bc6",
   "metadata": {},
   "source": [
    "## H2: Author\n",
    "Habinshuti Callixte"
   ]
  }
 ],
 "metadata": {
  "kernelspec": {
   "display_name": "Python 3 (ipykernel)",
   "language": "python",
   "name": "python3"
  },
  "language_info": {
   "codemirror_mode": {
    "name": "ipython",
    "version": 3
   },
   "file_extension": ".py",
   "mimetype": "text/x-python",
   "name": "python",
   "nbconvert_exporter": "python",
   "pygments_lexer": "ipython3",
   "version": "3.11.5"
  }
 },
 "nbformat": 4,
 "nbformat_minor": 5
}
